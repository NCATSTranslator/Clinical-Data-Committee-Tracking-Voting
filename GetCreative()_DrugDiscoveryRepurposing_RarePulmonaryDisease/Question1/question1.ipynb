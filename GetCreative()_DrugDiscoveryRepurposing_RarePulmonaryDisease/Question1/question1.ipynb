{
 "cells": [
  {
   "cell_type": "code",
   "execution_count": 1,
   "id": "latter-glenn",
   "metadata": {},
   "outputs": [],
   "source": [
    "import json\n",
    "import requests\n",
    "from datetime import datetime\n",
    "from collections import defaultdict\n",
    "from time import sleep\n",
    "\n",
    "#https://pypi.org/project/gamma-viewer/\n",
    "# from gamma_viewer import GammaViewer\n",
    "from IPython.display import display\n",
    "\n",
    "# from bmt import Toolkit\n",
    "# t = Toolkit()"
   ]
  },
  {
   "cell_type": "code",
   "execution_count": 2,
   "id": "loose-timber",
   "metadata": {},
   "outputs": [],
   "source": [
    "def log_query(query, ars_url, pk, time=datetime.now()):\n",
    "    message = f'''\n",
    "{json.dumps(query, indent=4)}\n",
    "{ars_url}\n",
    "{pk}\n",
    "{time}\n",
    "'''\n",
    "    try:\n",
    "        with open('log.txt', 'a') as fh:\n",
    "            fh.write(message)\n",
    "    except:\n",
    "        print('Could not write to log file')\n",
    "        \n",
    "def submit_to_ars(m,ars_url='https://ars.transltr.io/ars/api',arax_url='https://arax.ncats.io'):\n",
    "    submit_url=f'{ars_url}/submit'\n",
    "    response = requests.post(submit_url,json=m)\n",
    "    try:\n",
    "        message_id = response.json()['pk']\n",
    "    except:\n",
    "        print('fail')\n",
    "        message_id = None\n",
    "    print(f'{arax_url}/?source=ARS&id={message_id}')\n",
    "    \n",
    "    t = datetime.now()\n",
    "    print(f'Submitted at {t} to {ars_url}')\n",
    "    log_query(m, ars_url, message_id, t)\n",
    "    \n",
    "    return message_id\n",
    "\n",
    "def retrieve_ars_results(mid,ars_url='https://ars.transltr.io/ars/api'):\n",
    "    message_url = f'{ars_url}/messages/{mid}?trace=y'\n",
    "    response = requests.get(message_url)\n",
    "    j = response.json()\n",
    "    print( j['status'] )\n",
    "    results = {}\n",
    "    for child in j['children']:\n",
    "        print(child['status'])\n",
    "        if child['status']  == 'Done':\n",
    "            childmessage_id = child['message']\n",
    "            child_url = f'{ars_url}/messages/{childmessage_id}'\n",
    "            try:\n",
    "                child_response = requests.get(child_url).json()\n",
    "                nresults = len(child_response['fields']['data']['message']['results'])\n",
    "                if nresults > 0:\n",
    "                    results[child['actor']['agent']] = {'message':child_response['fields']['data']['message']}\n",
    "            except Exception as e:\n",
    "                nresults=0\n",
    "                child['status'] = 'ARS Error'\n",
    "        elif child['status'] == 'Error':\n",
    "            nresults=0\n",
    "            childmessage_id = child['message']\n",
    "            child_url = f'{ars_url}/messages/{childmessage_id}'\n",
    "            try:\n",
    "                child_response = requests.get(child_url).json()\n",
    "                results[child['actor']['agent']] = {'message':child_response['fields']['data']['message']}\n",
    "            except Exception as e:\n",
    "                print(e)\n",
    "                child['status'] = 'ARS Error'\n",
    "        else:\n",
    "            nresults = 0\n",
    "        print( child['status'], child['actor']['agent'],nresults )\n",
    "    return results\n",
    "\n",
    "def submit_to_devars(m):\n",
    "    return submit_to_ars(m,ars_url='https://ars-dev.transltr.io/ars/api',arax_url='https://arax.ncats.io')\n",
    "\n",
    "def retrieve_devars_results(m):\n",
    "    return retrieve_ars_results(m,ars_url='https://ars-dev.transltr.io/ars/api')\n",
    "\n",
    "def printjson(j):\n",
    "    print(json.dumps(j,indent=4))\n",
    "\n",
    "def print_json(j):\n",
    "    printjson(j)\n",
    "    \n",
    "def name_lookup(text):\n",
    "    url= f'https://name-resolution-sri.renci.org/lookup?string={text}&offset=0&limit=10'\n",
    "    response = requests.post(url)\n",
    "    printjson(response.json())\n",
    "    \n",
    "def one_hop_message(subject_category,object_category,predicate=None,subject_id = None, object_id = None):\n",
    "    query_graph = {\n",
    "    \"nodes\": {\n",
    "        'a':{\n",
    "            \"category\": subject_category\n",
    "        },\n",
    "        'b':{\n",
    "            \"category\": object_category\n",
    "        }\n",
    "    },\n",
    "    \"edges\": {\n",
    "        'ab':{\n",
    "            \"subject\": \"a\",\n",
    "            \"object\": \"b\",\n",
    "            #\"predicate\": predicate\n",
    "        }\n",
    "    }\n",
    "    }\n",
    "    if predicate is not None:\n",
    "        query_graph['edges']['ab']['predicate'] = predicate\n",
    "    if subject_id is not None:\n",
    "        query_graph['nodes']['a']['id'] = subject_id\n",
    "    if object_id is not None:\n",
    "        query_graph['nodes']['b']['id'] = object_id\n",
    "    message = {\"message\": {\"query_graph\": query_graph},'knowledge_graph':{\"nodes\": [], \"edges\": [],}, 'results':[]}\n",
    "    return message\n",
    "\n",
    "def send_trapi(m, service_name=None, service_url=None):\n",
    "    services = {\n",
    "        'rtx-kg2': 'https://arax.ncats.io/api/rtxkg2/v1.2/query',\n",
    "        'icees-asthma': 'https://icees.renci.org:16339/query?reasoner=true&verbose=false',\n",
    "        'icees-dili': 'https://icees.renci.org:16341/query?reasoner=true&verbose=false',\n",
    "        'arax': 'https://arax.ncats.io/api/arax/v1.2/query'\n",
    "    }\n",
    "    \n",
    "    if service_url is None and service_name is not None:\n",
    "        service_url = services.get(service_name.lower())\n",
    "        \n",
    "    if service_url is None:\n",
    "        print('No service URL')\n",
    "       \n",
    "    t1 = datetime.now()\n",
    "    print(f'Submitting at {t1} to {service_url}')\n",
    "    response = requests.post(service_url,json=m)\n",
    "    try:\n",
    "        j = response.json()\n",
    "    except:\n",
    "        print('fail')\n",
    "        j = None    \n",
    "    \n",
    "    t2 = datetime.now()    \n",
    "    print(f'Query took {(t2-t1).total_seconds()} seconds')\n",
    "    \n",
    "    return j\n",
    "\n",
    "def rtx_result_summary(response):\n",
    "    print(response['description'])\n",
    "    n_results = len(response['message']['results'])\n",
    "    print(f\"Number of results: {n_results}\")\n",
    "    if n_results:\n",
    "        print(f\"Number of nodes bound to n2: {len(response['message']['results'][0]['node_bindings']['n2'])}\")\n",
    "        print(f\"Number of nodes bound to n3: {len(response['message']['results'][0]['node_bindings']['n3'])}\")\n",
    "        \n",
    "def look_for_desired_answers(response):\n",
    "    looking_for=['resveratrol', 'prednisone', 'dexamethasone', 'silybin']\n",
    "    for x in response['message']['results'][0]['node_bindings']['n3']:\n",
    "        name = response['message']['knowledge_graph']['nodes'][x['id']]['name']\n",
    "        for desired in looking_for:\n",
    "            if desired in name:\n",
    "                print(name)"
   ]
  },
  {
   "cell_type": "markdown",
   "id": "modern-today",
   "metadata": {},
   "source": [
    "# CURIEs\n",
    "    \n",
    "    primary ciliary dyskinesia (MONDO:0016575)\n",
    "    cystic fibrosis (MONDO:0009061)\n",
    "    idiopathic bronchiectasis (MONDO:0018956)\n",
    "    lymphangioleiomyomatosis (MONDO:0011705)\n",
    "    idiopathic pulmonary fibrosis (MONDO:0008345)\n",
    "\n",
    "    Related CURIES: disorder of lung (SCTID: 19829001), lower respiratory tract disorder (MONDO:0000270)\n"
   ]
  },
  {
   "cell_type": "markdown",
   "id": "disciplinary-interference",
   "metadata": {},
   "source": [
    "# (rare pulmonary disease) --[has_real_world_evidence_of_association_with]-- (ChemicalEntity)"
   ]
  },
  {
   "cell_type": "code",
   "execution_count": 3,
   "id": "optimum-rachel",
   "metadata": {},
   "outputs": [
    {
     "name": "stdout",
     "output_type": "stream",
     "text": [
      "https://arax.ncats.io/?source=ARS&id=bdf4d112-c02c-477e-bd09-e17c21a1ac99\n",
      "Submitted at 2022-05-04 09:51:46.907441 to https://ars.transltr.io/ars/api\n"
     ]
    },
    {
     "data": {
      "text/plain": [
       "'bdf4d112-c02c-477e-bd09-e17c21a1ac99'"
      ]
     },
     "execution_count": 3,
     "metadata": {},
     "output_type": "execute_result"
    }
   ],
   "source": [
    "submit_to_ars(json.loads(\n",
    "\"\"\"\n",
    "{\n",
    "    \"message\": {\n",
    "        \"query_graph\": {\n",
    "            \"nodes\": {\n",
    "                \"n0\": {\n",
    "                    \"ids\": [\"MONDO:0016575\"],\n",
    "                    \"categories\": [\n",
    "                        \"biolink:DiseaseOrPhenotypicFeature\"\n",
    "                    ],\n",
    "                    \"name\": \"primary ciliary dyskinesia\"\n",
    "                },\n",
    "                \"n1\": {\n",
    "                    \"categories\": [\n",
    "                        \"biolink:ChemicalEntity\"\n",
    "                    ]\n",
    "                }\n",
    "            },\n",
    "            \"edges\": {\n",
    "                \"e0\": {\n",
    "                    \"subject\": \"n0\",\n",
    "                    \"object\": \"n1\",\n",
    "                    \"predicates\": [\"biolink:has_real_world_evidence_of_association_with\"]\n",
    "                }\n",
    "            }\n",
    "        }\n",
    "    }\n",
    "}\n",
    "\"\"\"\n",
    "))"
   ]
  },
  {
   "cell_type": "markdown",
   "id": "found-differential",
   "metadata": {},
   "source": [
    "https://arax.ncats.io/?source=ARS&id=bdf4d112-c02c-477e-bd09-e17c21a1ac99  \n",
    "Submitted at 2022-05-04 09:51:46.907441 to https://ars.transltr.io/ars/api  "
   ]
  },
  {
   "cell_type": "code",
   "execution_count": 7,
   "id": "scenic-theology",
   "metadata": {},
   "outputs": [
    {
     "name": "stdout",
     "output_type": "stream",
     "text": [
      "https://arax.ncats.io/?source=ARS&id=daf75a37-3e1b-4e6e-9f1c-fcd3b5ef43ac\n",
      "Submitted at 2022-05-04 10:00:06.165670 to https://ars.transltr.io/ars/api\n"
     ]
    },
    {
     "data": {
      "text/plain": [
       "'daf75a37-3e1b-4e6e-9f1c-fcd3b5ef43ac'"
      ]
     },
     "execution_count": 7,
     "metadata": {},
     "output_type": "execute_result"
    }
   ],
   "source": [
    "submit_to_ars(json.loads(\n",
    "\"\"\"\n",
    "{\n",
    "    \"message\": {\n",
    "        \"query_graph\": {\n",
    "            \"nodes\": {\n",
    "                \"n0\": {\n",
    "                    \"ids\": [\"MONDO:0009061\"],\n",
    "                    \"categories\": [\n",
    "                        \"biolink:DiseaseOrPhenotypicFeature\"\n",
    "                    ],\n",
    "                    \"name\": \"cystic fibrosis\"\n",
    "                },\n",
    "                \"n1\": {\n",
    "                    \"categories\": [\n",
    "                        \"biolink:ChemicalEntity\"\n",
    "                    ]\n",
    "                }\n",
    "            },\n",
    "            \"edges\": {\n",
    "                \"e0\": {\n",
    "                    \"subject\": \"n0\",\n",
    "                    \"object\": \"n1\",\n",
    "                    \"predicates\": [\"biolink:has_real_world_evidence_of_association_with\"]\n",
    "                }\n",
    "            }\n",
    "        }\n",
    "    }\n",
    "}\n",
    "\"\"\"\n",
    "))"
   ]
  },
  {
   "cell_type": "markdown",
   "id": "pointed-cherry",
   "metadata": {},
   "source": [
    "https://arax.ncats.io/?source=ARS&id=daf75a37-3e1b-4e6e-9f1c-fcd3b5ef43ac  \n",
    "Submitted at 2022-05-04 10:00:06.165670 to https://ars.transltr.io/ars/api  "
   ]
  },
  {
   "cell_type": "code",
   "execution_count": 6,
   "id": "proprietary-chrome",
   "metadata": {},
   "outputs": [
    {
     "name": "stdout",
     "output_type": "stream",
     "text": [
      "https://arax.ncats.io/?source=ARS&id=4067b5cc-31c2-4fd9-a7ab-1c36983a036a\n",
      "Submitted at 2022-05-04 09:59:24.271224 to https://ars.transltr.io/ars/api\n"
     ]
    },
    {
     "data": {
      "text/plain": [
       "'4067b5cc-31c2-4fd9-a7ab-1c36983a036a'"
      ]
     },
     "execution_count": 6,
     "metadata": {},
     "output_type": "execute_result"
    }
   ],
   "source": [
    "submit_to_ars(json.loads(\n",
    "\"\"\"\n",
    "{\n",
    "    \"message\": {\n",
    "        \"query_graph\": {\n",
    "            \"nodes\": {\n",
    "                \"n0\": {\n",
    "                    \"ids\": [\"MONDO:0018956\"],\n",
    "                    \"categories\": [\n",
    "                        \"biolink:DiseaseOrPhenotypicFeature\"\n",
    "                    ],\n",
    "                    \"name\": \"idiopathic bronchiectasis\"\n",
    "                },\n",
    "                \"n1\": {\n",
    "                    \"categories\": [\n",
    "                        \"biolink:ChemicalEntity\"\n",
    "                    ]\n",
    "                }\n",
    "            },\n",
    "            \"edges\": {\n",
    "                \"e0\": {\n",
    "                    \"subject\": \"n0\",\n",
    "                    \"object\": \"n1\",\n",
    "                    \"predicates\": [\"biolink:has_real_world_evidence_of_association_with\"]\n",
    "                }\n",
    "            }\n",
    "        }\n",
    "    }\n",
    "}\n",
    "\"\"\"\n",
    "))"
   ]
  },
  {
   "cell_type": "markdown",
   "id": "technological-dominant",
   "metadata": {},
   "source": [
    "https://arax.ncats.io/?source=ARS&id=4067b5cc-31c2-4fd9-a7ab-1c36983a036a  \n",
    "Submitted at 2022-05-04 09:59:24.271224 to https://ars.transltr.io/ars/api  "
   ]
  },
  {
   "cell_type": "code",
   "execution_count": 5,
   "id": "complimentary-regard",
   "metadata": {},
   "outputs": [
    {
     "name": "stdout",
     "output_type": "stream",
     "text": [
      "https://arax.ncats.io/?source=ARS&id=d10a44c9-4185-4eca-a236-067b6fa77b49\n",
      "Submitted at 2022-05-04 09:58:41.820329 to https://ars.transltr.io/ars/api\n"
     ]
    },
    {
     "data": {
      "text/plain": [
       "'d10a44c9-4185-4eca-a236-067b6fa77b49'"
      ]
     },
     "execution_count": 5,
     "metadata": {},
     "output_type": "execute_result"
    }
   ],
   "source": [
    "submit_to_ars(json.loads(\n",
    "\"\"\"\n",
    "{\n",
    "    \"message\": {\n",
    "        \"query_graph\": {\n",
    "            \"nodes\": {\n",
    "                \"n0\": {\n",
    "                    \"ids\": [\"MONDO:0011705\"],\n",
    "                    \"categories\": [\n",
    "                        \"biolink:DiseaseOrPhenotypicFeature\"\n",
    "                    ],\n",
    "                    \"name\": \"lymphangioleiomyomatosis\"\n",
    "                },\n",
    "                \"n1\": {\n",
    "                    \"categories\": [\n",
    "                        \"biolink:ChemicalEntity\"\n",
    "                    ]\n",
    "                }\n",
    "            },\n",
    "            \"edges\": {\n",
    "                \"e0\": {\n",
    "                    \"subject\": \"n0\",\n",
    "                    \"object\": \"n1\",\n",
    "                    \"predicates\": [\"biolink:has_real_world_evidence_of_association_with\"]\n",
    "                }\n",
    "            }\n",
    "        }\n",
    "    }\n",
    "}\n",
    "\"\"\"\n",
    "))"
   ]
  },
  {
   "cell_type": "markdown",
   "id": "flexible-sacramento",
   "metadata": {},
   "source": [
    "https://arax.ncats.io/?source=ARS&id=d10a44c9-4185-4eca-a236-067b6fa77b49  \n",
    "Submitted at 2022-05-04 09:58:41.820329 to https://ars.transltr.io/ars/api  "
   ]
  },
  {
   "cell_type": "code",
   "execution_count": 4,
   "id": "compatible-compensation",
   "metadata": {},
   "outputs": [
    {
     "name": "stdout",
     "output_type": "stream",
     "text": [
      "https://arax.ncats.io/?source=ARS&id=bfcacde4-ea07-4ae3-b53f-a97f39ab10c6\n",
      "Submitted at 2022-05-04 09:57:38.646776 to https://ars.transltr.io/ars/api\n"
     ]
    },
    {
     "data": {
      "text/plain": [
       "'bfcacde4-ea07-4ae3-b53f-a97f39ab10c6'"
      ]
     },
     "execution_count": 4,
     "metadata": {},
     "output_type": "execute_result"
    }
   ],
   "source": [
    "submit_to_ars(json.loads(\n",
    "\"\"\"\n",
    "{\n",
    "    \"message\": {\n",
    "        \"query_graph\": {\n",
    "            \"nodes\": {\n",
    "                \"n0\": {\n",
    "                    \"ids\": [\"MONDO:0008345\"],\n",
    "                    \"categories\": [\n",
    "                        \"biolink:DiseaseOrPhenotypicFeature\"\n",
    "                    ],\n",
    "                    \"name\": \"idiopathic pulmonary fibrosis\"\n",
    "                },\n",
    "                \"n1\": {\n",
    "                    \"categories\": [\n",
    "                        \"biolink:ChemicalEntity\"\n",
    "                    ]\n",
    "                }\n",
    "            },\n",
    "            \"edges\": {\n",
    "                \"e0\": {\n",
    "                    \"subject\": \"n0\",\n",
    "                    \"object\": \"n1\",\n",
    "                    \"predicates\": [\"biolink:has_real_world_evidence_of_association_with\"]\n",
    "                }\n",
    "            }\n",
    "        }\n",
    "    }\n",
    "}\n",
    "\"\"\"\n",
    "))"
   ]
  },
  {
   "cell_type": "markdown",
   "id": "soviet-obligation",
   "metadata": {},
   "source": [
    "https://arax.ncats.io/?source=ARS&id=bfcacde4-ea07-4ae3-b53f-a97f39ab10c6  \n",
    "Submitted at 2022-05-04 09:57:38.646776 to https://ars.transltr.io/ars/api  \n",
    " "
   ]
  },
  {
   "cell_type": "code",
   "execution_count": null,
   "id": "designing-simple",
   "metadata": {},
   "outputs": [],
   "source": []
  }
 ],
 "metadata": {
  "kernelspec": {
   "display_name": "Python 3",
   "language": "python",
   "name": "python3"
  },
  "language_info": {
   "codemirror_mode": {
    "name": "ipython",
    "version": 3
   },
   "file_extension": ".py",
   "mimetype": "text/x-python",
   "name": "python",
   "nbconvert_exporter": "python",
   "pygments_lexer": "ipython3",
   "version": "3.9.1"
  }
 },
 "nbformat": 4,
 "nbformat_minor": 5
}
